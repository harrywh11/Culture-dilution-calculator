{
 "cells": [
  {
   "cell_type": "code",
   "execution_count": 1,
   "metadata": {},
   "outputs": [],
   "source": [
    "import warnings\n",
    "warnings.filterwarnings(\"ignore\", category=DeprecationWarning)\n",
    "\n",
    "import urllib\n",
    "import os\n",
    "import os.path as osp\n",
    "import nbformat\n",
    "import json\n",
    "import ssl\n",
    "import sys\n",
    "import time\n",
    "import hashlib\n",
    "import pickle\n",
    "import io\n",
    "import random\n",
    "import getpass\n",
    "import inspect\n",
    "import socket\n",
    "import tempfile\n",
    "from datetime import datetime, date\n",
    "from datetime import timedelta\n",
    "\n",
    "import matplotlib\n",
    "import pylab # for side effects on matplotlib\n",
    "import pandas as pd\n",
    "import numpy as np\n",
    "import IPython.display as ipd\n"
   ]
  },
  {
   "cell_type": "code",
   "execution_count": 2,
   "metadata": {},
   "outputs": [],
   "source": [
    "def array_to_html(arr, row_names=None, col_names=None, title=None):\n",
    "    ''' array_to_html, if placed at the end of a Anaconda cell, will\n",
    "        display the array in html.   It uses pandas.\n",
    "    '''\n",
    "    if len(arr.shape) not in [1, 2]:\n",
    "        print('The array must be a one- or two-dimensional array. This array is',\n",
    "             len(arr.shape), 'dimensions')\n",
    "        return\n",
    "\n",
    "    if title:\n",
    "        ipd.display(ipd.HTML('<h1>' + title + '</h1>'))\n",
    "    df = pd.DataFrame(arr, index=row_names, columns=col_names)\n",
    "    return ipd.display(ipd.HTML(df.to_html()))"
   ]
  },
  {
   "cell_type": "code",
   "execution_count": 3,
   "metadata": {},
   "outputs": [],
   "source": [
    "def separate(string):\n",
    "    separated=[]\n",
    "    semic=[-1]\n",
    "    reverse=string[::-1]\n",
    "    lastword=string[-reverse.find(';'):-1]\n",
    "    for posi in range(len(string)):\n",
    "        if string[posi]==';':\n",
    "            semic.append(posi)\n",
    "    for positionx in range(len(semic)-1):\n",
    "        word=string[semic[positionx]+1:semic[positionx+1]]\n",
    "        separated.append(float(word))\n",
    "    separated.append(float(lastword))\n",
    "    return separated"
   ]
  },
  {
   "cell_type": "code",
   "execution_count": null,
   "metadata": {},
   "outputs": [
    {
     "name": "stdout",
     "output_type": "stream",
     "text": [
      "The Diluter V3.1.2---Created by Harry Wang\n",
      "If the program does not work, please restart it.\n"
     ]
    }
   ],
   "source": [
    "# diluting culture\n",
    "print('The Diluter V3.1.2---Created by Harry Wang')\n",
    "print('If the program does not work, please restart it.')\n",
    "targetod=float(input('Please enter the Target OD 600 '))\n",
    "numofhours=float(input('Please enter the number of hours you will grow the culture (hours) '))\n",
    "desiredvol=float(input('Please enter the desired culture volume (ml) '))\n",
    "doublehr=float(input('Please enter the doubling time of your strain (hours) '))\n",
    "totalsample=int(input('Please enter the total number of samples you have '))\n",
    "datatable=[]\n",
    "conditions=np.array([targetod,numofhours,desiredvol,doublehr,totalsample])\n",
    "conditions=np.reshape(conditions,[1,5])\n",
    "array_to_html(conditions,row_names=['Conditions'],col_names=['Target OD 600','Number of hours for growth','Desired culture volume','Doubling time','Number of samples'],title='Please Check The Conditions for Cultivation')\n",
    "print('If you need to change the conditions, please restart the program')\n",
    "for i in range(totalsample):\n",
    "    d=i+1\n",
    "    currentod=float(input('Please enter the Current OD 600 for sample %d '%(d)))\n",
    "    amt=(desiredvol*(targetod/currentod))/(2**(numofhours/doublehr))*1000\n",
    "    datatable.append([currentod,amt])\n",
    "datatable=np.array(datatable)\n",
    "print('The datatable table entered: ')\n",
    "array_to_html(datatable, row_names=range(1,len(datatable)+1),col_names=['Current OD','Amount need to add (ul)'], title='The Data Entered')\n",
    "#for item in datatable:\n",
    "    #print(item)\n",
    "change=input('Do you need to change any data? Please enter  \\'y\\' or \\'n\\' ')\n",
    "while change!='n':\n",
    "    num=int(input('Please enter the number of samples you want to change '))\n",
    "    for j in range(num):\n",
    "        position = int(input('Please enter the position of the sample you want to change '))\n",
    "        print('The value you want to change is: '+'Sample '+ str(position)+': OD '+str(datatable[position-1][0]))\n",
    "        newdata=float(input('Please enter the Current OD '))\n",
    "        newvol=(desiredvol*(targetod/newdata))/(2**(numofhours/doublehr))*1000\n",
    "        datatable[position-1,0]=newdata\n",
    "        datatable[position-1,1]=newvol\n",
    "        print('The changed result is: '+'Sample '+ str(position)+': New OD '+str(datatable[position-1][0]))\n",
    "    array_to_html(datatable, row_names=range(1,len(datatable)+1),col_names=['Current OD','Amount need to add (ul)'], title='The new result')\n",
    "    change=input('Do you need to change any data? Please enter  \\'y\\' or \\'n\\' ')\n",
    "array_to_html(datatable, row_names=range(1,len(datatable)+1),col_names=['Current OD','Amount need to add (ul)'], title='The Final result')"
   ]
  },
  {
   "cell_type": "code",
   "execution_count": 17,
   "metadata": {},
   "outputs": [
    {
     "name": "stdout",
     "output_type": "stream",
     "text": [
      "The Diluter Advanced V1.0.5---Created by Harry Wang\n",
      "If the program does not work, please restart it.\n",
      "Please enter the Target OD 600 0.5\n",
      "Please enter the number of hours you will grow the culture (hours) 12\n",
      "Please enter the desired culture volume (ml) 4\n",
      "Please enter the doubling time of your strain (hours) 2\n"
     ]
    },
    {
     "data": {
      "text/html": [
       "<h1>Please Check The Conditions for Cultivation</h1>"
      ],
      "text/plain": [
       "<IPython.core.display.HTML object>"
      ]
     },
     "metadata": {},
     "output_type": "display_data"
    },
    {
     "data": {
      "text/html": [
       "<table border=\"1\" class=\"dataframe\">\n",
       "  <thead>\n",
       "    <tr style=\"text-align: right;\">\n",
       "      <th></th>\n",
       "      <th>Target OD 600</th>\n",
       "      <th>Number of hours for growth</th>\n",
       "      <th>Desired culture volume</th>\n",
       "      <th>Doubling time</th>\n",
       "    </tr>\n",
       "  </thead>\n",
       "  <tbody>\n",
       "    <tr>\n",
       "      <th>Conditions</th>\n",
       "      <td>0.5</td>\n",
       "      <td>12.0</td>\n",
       "      <td>4.0</td>\n",
       "      <td>2.0</td>\n",
       "    </tr>\n",
       "  </tbody>\n",
       "</table>"
      ],
      "text/plain": [
       "<IPython.core.display.HTML object>"
      ]
     },
     "metadata": {},
     "output_type": "display_data"
    },
    {
     "name": "stdout",
     "output_type": "stream",
     "text": [
      "If you need to change the conditions, please restart the program\n",
      "Please enter the set of OD of all your samples to decimals separated with ' ; ' 2.0;1.5;3.2\n",
      "The datatable you entered for future reference: \n",
      "2.0;1.5;3.2\n",
      "The datatable table entered: \n"
     ]
    },
    {
     "data": {
      "text/html": [
       "<h1>The Data Entered</h1>"
      ],
      "text/plain": [
       "<IPython.core.display.HTML object>"
      ]
     },
     "metadata": {},
     "output_type": "display_data"
    },
    {
     "data": {
      "text/html": [
       "<table border=\"1\" class=\"dataframe\">\n",
       "  <thead>\n",
       "    <tr style=\"text-align: right;\">\n",
       "      <th></th>\n",
       "      <th>Current OD</th>\n",
       "      <th>Amount need to add (ul)</th>\n",
       "    </tr>\n",
       "  </thead>\n",
       "  <tbody>\n",
       "    <tr>\n",
       "      <th>1</th>\n",
       "      <td>2.0</td>\n",
       "      <td>15.625000</td>\n",
       "    </tr>\n",
       "    <tr>\n",
       "      <th>2</th>\n",
       "      <td>1.5</td>\n",
       "      <td>20.833333</td>\n",
       "    </tr>\n",
       "    <tr>\n",
       "      <th>3</th>\n",
       "      <td>3.0</td>\n",
       "      <td>10.416667</td>\n",
       "    </tr>\n",
       "  </tbody>\n",
       "</table>"
      ],
      "text/plain": [
       "<IPython.core.display.HTML object>"
      ]
     },
     "metadata": {},
     "output_type": "display_data"
    },
    {
     "name": "stdout",
     "output_type": "stream",
     "text": [
      "Do you need to change any data? Please enter  'y' or 'n' n\n"
     ]
    },
    {
     "data": {
      "text/html": [
       "<h1>The Final result</h1>"
      ],
      "text/plain": [
       "<IPython.core.display.HTML object>"
      ]
     },
     "metadata": {},
     "output_type": "display_data"
    },
    {
     "data": {
      "text/html": [
       "<table border=\"1\" class=\"dataframe\">\n",
       "  <thead>\n",
       "    <tr style=\"text-align: right;\">\n",
       "      <th></th>\n",
       "      <th>Current OD</th>\n",
       "      <th>Amount need to add (ul)</th>\n",
       "    </tr>\n",
       "  </thead>\n",
       "  <tbody>\n",
       "    <tr>\n",
       "      <th>1</th>\n",
       "      <td>2.0</td>\n",
       "      <td>15.625000</td>\n",
       "    </tr>\n",
       "    <tr>\n",
       "      <th>2</th>\n",
       "      <td>1.5</td>\n",
       "      <td>20.833333</td>\n",
       "    </tr>\n",
       "    <tr>\n",
       "      <th>3</th>\n",
       "      <td>3.0</td>\n",
       "      <td>10.416667</td>\n",
       "    </tr>\n",
       "  </tbody>\n",
       "</table>"
      ],
      "text/plain": [
       "<IPython.core.display.HTML object>"
      ]
     },
     "metadata": {},
     "output_type": "display_data"
    }
   ],
   "source": [
    "# diluting culture advanced\n",
    "print('The Diluter Advanced V1.0.5---Created by Harry Wang')\n",
    "print('If the program does not work, please restart it.')\n",
    "targetod=float(input('Please enter the Target OD 600 '))\n",
    "numofhours=float(input('Please enter the number of hours you will grow the culture (hours) '))\n",
    "desiredvol=float(input('Please enter the desired culture volume (ml) '))\n",
    "doublehr=float(input('Please enter the doubling time of your strain (hours) '))\n",
    "datatable=[]\n",
    "conditions=np.array([targetod,numofhours,desiredvol,doublehr])\n",
    "conditions=np.reshape(conditions,[1,4])\n",
    "array_to_html(conditions,row_names=['Conditions'],col_names=['Target OD 600','Number of hours for growth','Desired culture volume','Doubling time'],title='Please Check The Conditions for Cultivation')\n",
    "print('If you need to change the conditions, please restart the program')\n",
    "total=input('Please enter the set of OD of all your samples to decimals separated with \\' ; \\' ')\n",
    "totalinlist=separate(total)\n",
    "totalsample=np.array(totalinlist)\n",
    "for i in range(len(totalinlist)):\n",
    "    currentod=totalsample[i]\n",
    "    d=i+1\n",
    "    amt=(desiredvol*(targetod/currentod))/(2**(numofhours/doublehr))*1000\n",
    "    datatable.append([totalsample[i],amt])\n",
    "datatable=np.array(datatable)\n",
    "print('The datatable you entered for future reference: ')\n",
    "print(total)\n",
    "print('The datatable table entered: ')\n",
    "array_to_html(datatable, row_names=range(1,len(datatable)+1),col_names=['Current OD','Amount need to add (ul)'], title='The Data Entered')\n",
    "#for item in datatable:\n",
    "    #print(item)\n",
    "change=input('Do you need to change any data? Please enter  \\'y\\' or \\'n\\' ')\n",
    "while change!='n':\n",
    "    num=int(input('Please enter the number of samples you want to change '))\n",
    "    for j in range(num):\n",
    "        position = int(input('Please enter the position of the sample you want to change '))\n",
    "        print('The value you want to change is: '+'Sample '+ str(position)+': OD '+str(datatable[position-1][0]))\n",
    "        newdata=float(input('Please enter the Current OD '))\n",
    "        newvol=(desiredvol*(targetod/newdata))/(2**(numofhours/doublehr))*1000\n",
    "        datatable[position-1,0]=newdata\n",
    "        datatable[position-1,1]=newvol\n",
    "        print('The changed result is: '+'Sample '+ str(position)+': New OD '+str(datatable[position-1][0]))\n",
    "    array_to_html(datatable, row_names=range(1,len(datatable)+1),col_names=['Current OD','Amount need to add (ul)'], title='The new result')\n",
    "    change=input('Do you need to change any data? Please enter  \\'y\\' or \\'n\\' ')\n",
    "array_to_html(datatable, row_names=range(1,len(datatable)+1),col_names=['Current OD','Amount need to add (ul)'], title='The Final result')"
   ]
  },
  {
   "cell_type": "code",
   "execution_count": null,
   "metadata": {},
   "outputs": [],
   "source": []
  }
 ],
 "metadata": {
  "kernelspec": {
   "display_name": "Python 3",
   "language": "python",
   "name": "python3"
  },
  "language_info": {
   "codemirror_mode": {
    "name": "ipython",
    "version": 3
   },
   "file_extension": ".py",
   "mimetype": "text/x-python",
   "name": "python",
   "nbconvert_exporter": "python",
   "pygments_lexer": "ipython3",
   "version": "3.7.0"
  }
 },
 "nbformat": 4,
 "nbformat_minor": 2
}
